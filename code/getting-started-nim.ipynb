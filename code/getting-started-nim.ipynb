{
 "cells": [
  {
   "cell_type": "markdown",
   "id": "36080a15-0646-4977-9e22-7d469b625bb3",
   "metadata": {},
   "source": [
    "### **Introduction on how to communicate with NIMs locally**"
   ]
  },
  {
   "cell_type": "markdown",
   "id": "ff11c092-59d0-4ed8-a30b-dd6f3f032429",
   "metadata": {},
   "source": [
    "#### **Step 1: Check the health using the API endpoints**"
   ]
  },
  {
   "cell_type": "code",
   "execution_count": null,
   "id": "bf7dfae3-8182-40ca-9f4b-a889e28322f8",
   "metadata": {},
   "outputs": [],
   "source": [
    "import requests\n",
    "import json"
   ]
  },
  {
   "cell_type": "code",
   "execution_count": 12,
   "id": "6ae5a6aa-78d9-45b5-9b07-181f105517e4",
   "metadata": {},
   "outputs": [
    {
     "name": "stdout",
     "output_type": "stream",
     "text": [
      "\"Service is ready.\"\n"
     ]
    }
   ],
   "source": [
    "# Check health of the deployed NIM\n",
    "url = 'http://llama:8000/v1/health/ready'\n",
    "\n",
    "response = requests.get(url)\n",
    "data = response.json()\n",
    "\n",
    "print(json.dumps(data['message']))"
   ]
  },
  {
   "cell_type": "markdown",
   "id": "038ff87d-5037-4ca1-8c49-9551d3816c6f",
   "metadata": {},
   "source": [
    "#### **Step 2: Check the available models using the API endpoints**"
   ]
  },
  {
   "cell_type": "code",
   "execution_count": 13,
   "id": "ef892742-9728-412c-b1ea-f796ac8a8f28",
   "metadata": {},
   "outputs": [
    {
     "name": "stdout",
     "output_type": "stream",
     "text": [
      "{\n",
      "    \"object\": \"list\",\n",
      "    \"data\": [\n",
      "        {\n",
      "            \"id\": \"meta/llama-3.2-3b-instruct\",\n",
      "            \"object\": \"model\",\n",
      "            \"created\": 1744524665,\n",
      "            \"owned_by\": \"system\",\n",
      "            \"root\": \"meta/llama-3.2-3b-instruct\",\n",
      "            \"parent\": null,\n",
      "            \"max_model_len\": 131072,\n",
      "            \"permission\": [\n",
      "                {\n",
      "                    \"id\": \"modelperm-412d40a3902d4661b6cd148cf9dbe333\",\n",
      "                    \"object\": \"model_permission\",\n",
      "                    \"created\": 1744524665,\n",
      "                    \"allow_create_engine\": false,\n",
      "                    \"allow_sampling\": true,\n",
      "                    \"allow_logprobs\": true,\n",
      "                    \"allow_search_indices\": false,\n",
      "                    \"allow_view\": true,\n",
      "                    \"allow_fine_tuning\": false,\n",
      "                    \"organization\": \"*\",\n",
      "                    \"group\": null,\n",
      "                    \"is_blocking\": false\n",
      "                }\n",
      "            ]\n",
      "        }\n",
      "    ]\n",
      "}\n"
     ]
    }
   ],
   "source": [
    "# Check available models (including LoRAs)\n",
    "url = 'http://llama:8000/v1/models'\n",
    "\n",
    "response = requests.get(url)\n",
    "data = response.json()\n",
    "\n",
    "print(json.dumps(data, indent=4))"
   ]
  },
  {
   "cell_type": "code",
   "execution_count": null,
   "id": "fcefbabc-12d6-42a4-95a0-7ec57d10da51",
   "metadata": {},
   "outputs": [],
   "source": []
  }
 ],
 "metadata": {
  "kernelspec": {
   "display_name": "Python 3 (ipykernel)",
   "language": "python",
   "name": "python3"
  },
  "language_info": {
   "codemirror_mode": {
    "name": "ipython",
    "version": 3
   },
   "file_extension": ".py",
   "mimetype": "text/x-python",
   "name": "python",
   "nbconvert_exporter": "python",
   "pygments_lexer": "ipython3",
   "version": "3.10.12"
  }
 },
 "nbformat": 4,
 "nbformat_minor": 5
}
